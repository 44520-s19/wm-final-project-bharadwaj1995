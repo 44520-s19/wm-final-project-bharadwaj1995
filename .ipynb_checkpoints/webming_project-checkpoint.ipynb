{
 "cells": [
  {
   "cell_type": "markdown",
   "metadata": {},
   "source": [
    "## This project focuses on choosing the better product by the customer by apling the sentiment analysis on customer reviews "
   ]
  },
  {
   "cell_type": "code",
   "execution_count": 3,
   "metadata": {},
   "outputs": [],
   "source": [
    "import requests\n",
    "\n",
    "from bs4 import BeautifulSoup\n",
    "\n",
    "from nltk.sentiment.vader import SentimentIntensityAnalyzer\n",
    "from mpl_toolkits.mplot3d import Axes3D\n",
    "\n",
    "import matplotlib.pyplot as plt\n",
    "\n",
    "def get_sentiments(text):\n",
    "    analyzer = SentimentIntensityAnalyzer()\n",
    "    return analyzer.polarity_scores(text)"
   ]
  },
  {
   "cell_type": "markdown",
   "metadata": {},
   "source": [
    "## this method get_sentiments will take the general text as input and applies the sentiment analysis on the text and returns the result"
   ]
  },
  {
   "cell_type": "code",
   "execution_count": 4,
   "metadata": {},
   "outputs": [],
   "source": [
    "\n",
    "\n",
    "\n",
    "def get_reveiws(iteam_url):\n",
    "\n",
    "    headers = {'User-Agent': 'Mozilla/5.0'}\n",
    "\n",
    "    page = requests.get(iteam_url, headers=headers)\n",
    "\n",
    "\n",
    "    soup = BeautifulSoup(page.text, 'html5lib')\n",
    "\n",
    "    print (\"product title\")\n",
    "    span = soup.find('span', {'id': 'productTitle'})\n",
    "\n",
    "    print (span.get_text().strip())\n",
    "\n",
    "\n",
    "    price_span = soup.find('span', {'id': 'priceblock_ourprice'})\n",
    "    print(\"product price details\")\n",
    "    print (price_span.get_text().strip())\n",
    "\n",
    "\n",
    "    saving_table = soup.find_all('tr', {'id': 'regularprice_savings'})\n",
    "\n",
    "    for row in saving_table:\n",
    "        print (row.get_text().strip())\n",
    "\n",
    "\n",
    "    reviews_list = soup.find_all('div', {'id': 'cm-cr-dp-review-list'})\n",
    "    \n",
    "    \n",
    "\n",
    "\n",
    "    customer_reviews = []\n",
    "\n",
    "    cutomer_rating = []\n",
    "\n",
    "    for review in reviews_list[0]:\n",
    "        review_span = review.find_all('span')\n",
    "        cutomer_rating.append(review_span[1].get_text().strip())\n",
    "        customer_reviews.append(review_span[7].get_text().strip())\n",
    "    \n",
    "    return customer_reviews, cutomer_rating, soup"
   ]
  },
  {
   "cell_type": "markdown",
   "metadata": {},
   "source": [
    "## this method is used to point to the amazon web page and mine the web page by using the request module\n",
    "\n",
    "### the result of the request module is passed to BeautifulSoup so that web page can be mined now\n",
    "\n",
    "### mining of web page includes the below steps (these tags are common tags for every amazon page)\n",
    "- title of the product is been retrved from the span tag with id productTitle and get text method gives the title of the product\n",
    "- price of the product is been retrived from the table content with table row holding id priceblock_ourprice and get text method gives the price details of the product\n",
    "- to get the reviews from the page content the get text of getting the div tag with id cm-cr-dp-review-list gives the list of reviews \n",
    "- and these reviews are analysied with the get_sentiments method from above\n",
    "- and finally this method retrns the ratings and list of reviews and BeautifulSoup object"
   ]
  },
  {
   "cell_type": "code",
   "execution_count": 5,
   "metadata": {},
   "outputs": [
    {
     "name": "stdout",
     "output_type": "stream",
     "text": [
      "Please enter the amazon product url : https://www.amazon.com/dp/B073RJ79XY/ref=sspa_dk_detail_0?psc=1&pd_rd_i=B073RJ79XY&pd_rd_w=hVYoG&pf_rd_p=8a8f3917-7900-4ce8-ad90-adf0d53c0985&pd_rd_wg=vLUlE&pf_rd_r=M5N0SKS6NCXT68SMPS2W&pd_rd_r=180c6f1e-9c2d-11e9-b2ee-5b6c9b26c131\n",
      "product title\n",
      "2017 HP Chromebook 11.6 inch Premium Flagship Laptop, Intel Celeron Core N2840 up to 2.58GHz, 4GB RAM, 16GB Flash SSD, 802.11ac WiFi, Bluetooth, Webcam, USB 3.0, Chrome OS (Renewed)\n",
      "product price details\n",
      "$139.98\n",
      "url is modified\n"
     ]
    }
   ],
   "source": [
    "\n",
    "item_page = input(\"Please enter the amazon product url : \")\n",
    "customer_reviews, cutomer_rating, soup = get_reveiws(item_page)\n",
    "\n",
    "related_items = soup.find('div', {'class': 'a-carousel-viewport'})\n",
    "\n",
    "sugestions = related_items.find('ol')\n",
    "\n",
    "first_suggestion = sugestions.findAll('li')[0]\n",
    "\n",
    "first_suggestion_link = first_suggestion.find('div').find('a', {'class': 'a-link-normal'})['href']\n",
    "\n",
    "if first_suggestion_link.startswith( 'https://www.amazon.com'):\n",
    "    print (\"url is fine\")\n",
    "else:\n",
    "    print('url is modified')\n",
    "    first_suggestion_link = \"https://www.amazon.com\" + first_suggestion_link"
   ]
  },
  {
   "cell_type": "markdown",
   "metadata": {},
   "source": [
    "### This block of code asks the user to enter the amazon produt url which the suer wants to apply analysis \n",
    "\n",
    "### after that the below actions are perfomed\n",
    "- by using the get_reveiws method from above the list of analysed sentiments and beautiful soup object are obtained \n",
    "- from the soup object by using the class called a-carousel-viewport for a div tag a list of similer product details are retrived\n",
    "- in the above list there will be ordered list such that the first list item is retrived\n",
    "- in the first list item there will be only one div tag which is retrived\n",
    "- from the div tag there will be only one anchor tag with class a-link-normal is retrived\n",
    "- the href of the above anchor tag directs to the product page of first similer product \n",
    "- if the product page start with https://www.amazon.com then the url is used normally else it append to the get text of href element"
   ]
  },
  {
   "cell_type": "code",
   "execution_count": 6,
   "metadata": {
    "scrolled": true
   },
   "outputs": [
    {
     "name": "stdout",
     "output_type": "stream",
     "text": [
      "sugestion product title adn details\n",
      "product title\n",
      "HP 15-bs234wm Intel Pentium N5000 Quad Core 4GB 500GB 15.6-inch Windows 10 Laptop (Renewed)\n",
      "product price details\n",
      "$249.99\n"
     ]
    },
    {
     "data": {
      "image/png": "[encoded data removed]",
      "text/plain": [
       "<Figure size 432x288 with 1 Axes>"
      ]
     },
     "metadata": {
      "needs_background": "light"
     },
     "output_type": "display_data"
    }
   ],
   "source": [
    "print (\"sugestion product title adn details\")\n",
    "sugestion_reviews, sugestion_rating, sugestion_soup = get_reveiws(first_suggestion_link)\n",
    "    \n",
    "fig = plt.figure()\n",
    "\n",
    "ax = fig.add_subplot(111)\n",
    "\n",
    "sentiments = [get_sentiments(rev) for rev in customer_reviews]\n",
    "\n",
    "sugestion_sentiments = [get_sentiments(srev) for srev in sugestion_reviews]\n",
    "\n",
    "\n",
    "sxs = [sent['neg'] for sent in sugestion_sentiments]\n",
    "#sys = [sent['neu'] for sent in sugestion_sentiments]\n",
    "szs = [sent['pos'] for sent in sugestion_sentiments]\n",
    "\n",
    "xs = [sent['neg'] for sent in sentiments]\n",
    "#ys = [sent['neu'] for sent in sentiments]\n",
    "zs = [sent['pos'] for sent in sentiments]\n",
    "\n",
    "plt.scatter(xs,zs,color='r',label='given_item', marker = 'd')\n",
    "plt.scatter(sxs,szs,color='g',label='first_sugested_item', marker = 'o')\n",
    "\n",
    "plt.xlabel('Negative')\n",
    "#ax.set_ylabel('Neutral')\n",
    "plt.ylabel('Positive')\n",
    "\n",
    "\n",
    "\n",
    "plt.legend(loc = \"upper right\",shadow=True)\n",
    "\n",
    "plt.title('Sentiment analysis for given amazon product')\n",
    "plt.show()\n"
   ]
  },
  {
   "cell_type": "markdown",
   "metadata": {},
   "source": [
    "#### from the above href url again the get_reveiws method is used to retrive the list of sentiment analysis of the cutomer reviews for first similer product \n",
    "\n",
    "#### now on the x axis the negitive sentiments are ploted and viceversa \n",
    "\n",
    "# Conclusion\n",
    "### This application applies the sentiment analysis on the customer reviews of given product and first product in the suggestion list , Instead of looking for another product this will automatically retrieves data for similar product which product has more plots towards negative axis that product can be considered as the  low rated one.As i have taken a 2017 HP Chromebook 11.6 inch Premium Flagship Laptop as input  sugestion was HP 15-bs234wm Intel Pentium N5000 Quad Core, the given product has more positive reviwes than sugested product"
   ]
  }
 ],
 "metadata": {
  "kernelspec": {
   "display_name": "Python 3",
   "language": "python",
   "name": "python3"
  },
  "language_info": {
   "codemirror_mode": {
    "name": "ipython",
    "version": 3
   },
   "file_extension": ".py",
   "mimetype": "text/x-python",
   "name": "python",
   "nbconvert_exporter": "python",
   "pygments_lexer": "ipython3",
   "version": "3.7.3"
  }
 },
 "nbformat": 4,
 "nbformat_minor": 2
}
